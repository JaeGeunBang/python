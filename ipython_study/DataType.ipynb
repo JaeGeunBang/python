{
 "cells": [
  {
   "cell_type": "markdown",
   "id": "proved-assembly",
   "metadata": {},
   "source": [
    "## 아래 자료형들을 배워보자\n",
    "1. 문자열과 리스트\n",
    "2. 튜플\n",
    "3. 딕셔너리"
   ]
  },
  {
   "cell_type": "code",
   "execution_count": 2,
   "id": "norwegian-access",
   "metadata": {},
   "outputs": [
    {
     "data": {
      "text/plain": [
       "str"
      ]
     },
     "execution_count": 2,
     "metadata": {},
     "output_type": "execute_result"
    }
   ],
   "source": [
    "type('A')"
   ]
  },
  {
   "cell_type": "code",
   "execution_count": 3,
   "id": "beginning-district",
   "metadata": {},
   "outputs": [
    {
     "data": {
      "text/plain": [
       "int"
      ]
     },
     "execution_count": 3,
     "metadata": {},
     "output_type": "execute_result"
    }
   ],
   "source": [
    "type(6)"
   ]
  },
  {
   "cell_type": "code",
   "execution_count": 4,
   "id": "posted-publicity",
   "metadata": {},
   "outputs": [],
   "source": [
    "# 위와 같이 자료형은 크게 문자열, 정수 소수, 복소수, 리스트 등이 있다.\n",
    "# 자료형은 type() 을 통해 쉽게 알수있다."
   ]
  },
  {
   "cell_type": "markdown",
   "id": "common-laser",
   "metadata": {},
   "source": [
    "# 1. 문자열과 리스트\n"
   ]
  },
  {
   "cell_type": "code",
   "execution_count": 5,
   "id": "micro-equation",
   "metadata": {},
   "outputs": [
    {
     "data": {
      "text/plain": [
       "'b'"
      ]
     },
     "execution_count": 5,
     "metadata": {},
     "output_type": "execute_result"
    }
   ],
   "source": [
    "x = 'banana'\n",
    "x[0] # 0번째 원소"
   ]
  },
  {
   "cell_type": "code",
   "execution_count": 6,
   "id": "fuzzy-thickness",
   "metadata": {},
   "outputs": [
    {
     "data": {
      "text/plain": [
       "'na'"
      ]
     },
     "execution_count": 6,
     "metadata": {},
     "output_type": "execute_result"
    }
   ],
   "source": [
    "x[2:4] # 2~3번째 원소 (앞에 있는 수는 이상, 뒤에 있는 수는 미만)"
   ]
  },
  {
   "cell_type": "code",
   "execution_count": 7,
   "id": "informational-reproduction",
   "metadata": {},
   "outputs": [
    {
     "data": {
      "text/plain": [
       "'ban'"
      ]
     },
     "execution_count": 7,
     "metadata": {},
     "output_type": "execute_result"
    }
   ],
   "source": [
    "x[:3] # 첫번째~2번째 원소"
   ]
  },
  {
   "cell_type": "code",
   "execution_count": 8,
   "id": "alternative-practitioner",
   "metadata": {},
   "outputs": [
    {
     "data": {
      "text/plain": [
       "'ana'"
      ]
     },
     "execution_count": 8,
     "metadata": {},
     "output_type": "execute_result"
    }
   ],
   "source": [
    "x[3:] # 3~마지막째 원소"
   ]
  },
  {
   "cell_type": "code",
   "execution_count": 10,
   "id": "unauthorized-galaxy",
   "metadata": {},
   "outputs": [
    {
     "data": {
      "text/plain": [
       "'nanana'"
      ]
     },
     "execution_count": 10,
     "metadata": {},
     "output_type": "execute_result"
    }
   ],
   "source": [
    "x = 'n' + x[1:]\n",
    "x"
   ]
  },
  {
   "cell_type": "code",
   "execution_count": 30,
   "id": "portuguese-albany",
   "metadata": {},
   "outputs": [
    {
     "data": {
      "text/plain": [
       "[2, 3, 'ㅁ', 11, 2, 5]"
      ]
     },
     "execution_count": 30,
     "metadata": {},
     "output_type": "execute_result"
    }
   ],
   "source": [
    "# 리스트 [] 대괄호로 씌어 있으면 리스트이다. 우리가 아는 일반 '배열'\n",
    "prime = [2,3,'ㅁ',11]\n",
    "prime.append(5)\n",
    "prime"
   ]
  },
  {
   "cell_type": "markdown",
   "id": "valued-fraud",
   "metadata": {},
   "source": [
    "# 2. 튜플\n"
   ]
  },
  {
   "cell_type": "code",
   "execution_count": 13,
   "id": "human-married",
   "metadata": {},
   "outputs": [
    {
     "name": "stdout",
     "output_type": "stream",
     "text": [
      "20 10\n"
     ]
    }
   ],
   "source": [
    "a = 10\n",
    "b = 20\n",
    "temp = a\n",
    "a = b\n",
    "b = temp\n",
    "print (a,b)"
   ]
  },
  {
   "cell_type": "code",
   "execution_count": 14,
   "id": "municipal-decade",
   "metadata": {},
   "outputs": [
    {
     "name": "stdout",
     "output_type": "stream",
     "text": [
      "20 10\n"
     ]
    }
   ],
   "source": [
    "c = 10\n",
    "d = 20\n",
    "c, d = d, c\n",
    "print (c,d)"
   ]
  },
  {
   "cell_type": "code",
   "execution_count": 27,
   "id": "native-enough",
   "metadata": {},
   "outputs": [
    {
     "name": "stdout",
     "output_type": "stream",
     "text": [
      "<class 'tuple'>\n",
      "1 2 (3, 4, 5, 6, 7, 8)\n"
     ]
    }
   ],
   "source": [
    "def magu_print(x, y, *rest):\n",
    "    print(type(rest))\n",
    "    print (x, y, rest)\n",
    "\n",
    "magu_print(1,2,3,4,5,6,7,8)\n",
    "# 여기서 rest는 튜플이다. () 소괄호로 씌어 있으면 튜플이다."
   ]
  },
  {
   "cell_type": "markdown",
   "id": "horizontal-citation",
   "metadata": {},
   "source": [
    "### 둘의 차이? \n",
    "1. list는 가변적 (원소 변경 가능)이며, tuple은 불변적 (원소 변경 불가능)이다.\n",
    "2. 튜플은 불변이라 dictionary에 키로 사용이 가능하다.\n",
    "3. 속도가 튜플이 더 빠르다. (반복문 할때)\n",
    "\n",
    "보통 파라미터를 ***rest**형태로 넘길때 '튜플'이 사용된다."
   ]
  },
  {
   "cell_type": "code",
   "execution_count": 19,
   "id": "toxic-taylor",
   "metadata": {},
   "outputs": [
    {
     "data": {
      "text/plain": [
       "(5,)"
      ]
     },
     "execution_count": 19,
     "metadata": {},
     "output_type": "execute_result"
    }
   ],
   "source": [
    "one = 5,\n",
    "one"
   ]
  },
  {
   "cell_type": "code",
   "execution_count": 21,
   "id": "cheap-delay",
   "metadata": {},
   "outputs": [
    {
     "data": {
      "text/plain": [
       "(1, 5, 3)"
      ]
     },
     "execution_count": 21,
     "metadata": {},
     "output_type": "execute_result"
    }
   ],
   "source": [
    "p = (1,2,3)\n",
    "q = p[:1] + (5,) + p[2:]\n",
    "q"
   ]
  },
  {
   "cell_type": "code",
   "execution_count": 22,
   "id": "smooth-blackberry",
   "metadata": {},
   "outputs": [
    {
     "data": {
      "text/plain": [
       "[1, 2, 3]"
      ]
     },
     "execution_count": 22,
     "metadata": {},
     "output_type": "execute_result"
    }
   ],
   "source": [
    "# tuple -> list\n",
    "p = (1,2,3)\n",
    "q = list(p)\n",
    "q"
   ]
  },
  {
   "cell_type": "code",
   "execution_count": 23,
   "id": "expired-teacher",
   "metadata": {},
   "outputs": [
    {
     "data": {
      "text/plain": [
       "(1, 2, 3)"
      ]
     },
     "execution_count": 23,
     "metadata": {},
     "output_type": "execute_result"
    }
   ],
   "source": [
    "# list -> tuple\n",
    "r = tuple(q)\n",
    "r"
   ]
  },
  {
   "cell_type": "markdown",
   "id": "laden-windsor",
   "metadata": {},
   "source": [
    "# 3. 딕셔너리"
   ]
  },
  {
   "cell_type": "code",
   "execution_count": 31,
   "id": "direct-weekly",
   "metadata": {},
   "outputs": [
    {
     "data": {
      "text/plain": [
       "dict"
      ]
     },
     "execution_count": 31,
     "metadata": {},
     "output_type": "execute_result"
    }
   ],
   "source": [
    "dic = {}\n",
    "type(dic)\n",
    "# 여기서 dic은 딕셔너리이다. {} 중괄호를 사용한다."
   ]
  },
  {
   "cell_type": "code",
   "execution_count": 33,
   "id": "absent-country",
   "metadata": {},
   "outputs": [
    {
     "data": {
      "text/plain": [
       "{'doctionary': 'reference', 'python': 'snake'}"
      ]
     },
     "execution_count": 33,
     "metadata": {},
     "output_type": "execute_result"
    }
   ],
   "source": [
    "smalldic = {'doctionary':'reference', 'python':'snake'}\n",
    "smalldic"
   ]
  },
  {
   "cell_type": "code",
   "execution_count": null,
   "id": "strange-beginning",
   "metadata": {},
   "outputs": [],
   "source": []
  }
 ],
 "metadata": {
  "kernelspec": {
   "display_name": "Python 3",
   "language": "python",
   "name": "python3"
  },
  "language_info": {
   "codemirror_mode": {
    "name": "ipython",
    "version": 3
   },
   "file_extension": ".py",
   "mimetype": "text/x-python",
   "name": "python",
   "nbconvert_exporter": "python",
   "pygments_lexer": "ipython3",
   "version": "3.9.1"
  }
 },
 "nbformat": 4,
 "nbformat_minor": 5
}
