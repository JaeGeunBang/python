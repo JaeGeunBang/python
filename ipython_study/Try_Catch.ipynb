{
 "cells": [
  {
   "cell_type": "markdown",
   "id": "soviet-module",
   "metadata": {},
   "source": [
    "### 예외처리"
   ]
  },
  {
   "cell_type": "code",
   "execution_count": 2,
   "id": "vocal-image",
   "metadata": {},
   "outputs": [
    {
     "data": {
      "text/plain": [
       "2.0"
      ]
     },
     "execution_count": 2,
     "metadata": {},
     "output_type": "execute_result"
    }
   ],
   "source": [
    "def f(a,b):\n",
    "    try:\n",
    "        if a and b:\n",
    "            return (a * b) + (a/b)\n",
    "        elif a:\n",
    "            return '불능'\n",
    "        else:\n",
    "            return '부정'\n",
    "    except:\n",
    "        return ''\n",
    "\n",
    "f(1,1)"
   ]
  },
  {
   "cell_type": "code",
   "execution_count": 3,
   "id": "surprising-blade",
   "metadata": {},
   "outputs": [
    {
     "data": {
      "text/plain": [
       "'불능'"
      ]
     },
     "execution_count": 3,
     "metadata": {},
     "output_type": "execute_result"
    }
   ],
   "source": [
    "f(1,0)"
   ]
  },
  {
   "cell_type": "code",
   "execution_count": 4,
   "id": "peaceful-innocent",
   "metadata": {},
   "outputs": [
    {
     "data": {
      "text/plain": [
       "'끝'"
      ]
     },
     "execution_count": 4,
     "metadata": {},
     "output_type": "execute_result"
    }
   ],
   "source": [
    "f('1','2')"
   ]
  },
  {
   "cell_type": "code",
   "execution_count": null,
   "id": "compact-authorization",
   "metadata": {},
   "outputs": [],
   "source": []
  }
 ],
 "metadata": {
  "kernelspec": {
   "display_name": "Python 3",
   "language": "python",
   "name": "python3"
  },
  "language_info": {
   "codemirror_mode": {
    "name": "ipython",
    "version": 3
   },
   "file_extension": ".py",
   "mimetype": "text/x-python",
   "name": "python",
   "nbconvert_exporter": "python",
   "pygments_lexer": "ipython3",
   "version": "3.9.1"
  }
 },
 "nbformat": 4,
 "nbformat_minor": 5
}
