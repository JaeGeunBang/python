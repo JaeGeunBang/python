{
 "cells": [
  {
   "cell_type": "code",
   "execution_count": 1,
   "metadata": {},
   "outputs": [
    {
     "name": "stdout",
     "output_type": "stream",
     "text": [
      "vaule is bigger than 5\n"
     ]
    }
   ],
   "source": [
    "# if 조건문:\n",
    "#  구문\n",
    "value = 10\n",
    "if value > 5:\n",
    "    print(\"vaule is bigger than 5\")"
   ]
  },
  {
   "cell_type": "code",
   "execution_count": 2,
   "metadata": {},
   "outputs": [
    {
     "data": {
      "text/plain": [
       "False"
      ]
     },
     "execution_count": 2,
     "metadata": {},
     "output_type": "execute_result"
    }
   ],
   "source": [
    "# 조건 식의 참/거짓 판단\n",
    "bool(True)\n",
    "bool(False)"
   ]
  },
  {
   "cell_type": "code",
   "execution_count": 4,
   "metadata": {},
   "outputs": [
    {
     "ename": "ZeroDivisionError",
     "evalue": "integer division or modulo by zero",
     "output_type": "error",
     "traceback": [
      "\u001b[1;31m---------------------------------------------------------------------------\u001b[0m",
      "\u001b[1;31mZeroDivisionError\u001b[0m                         Traceback (most recent call last)",
      "\u001b[1;32m<ipython-input-4-1a74c260c0a6>\u001b[0m in \u001b[0;36m<module>\u001b[1;34m()\u001b[0m\n\u001b[0;32m      6\u001b[0m \u001b[1;31m# ex. &를 썻을 때,\u001b[0m\u001b[1;33m\u001b[0m\u001b[1;33m\u001b[0m\u001b[0m\n\u001b[0;32m      7\u001b[0m \u001b[0ma\u001b[0m \u001b[1;33m=\u001b[0m \u001b[1;36m0\u001b[0m\u001b[1;33m\u001b[0m\u001b[0m\n\u001b[1;32m----> 8\u001b[1;33m \u001b[1;32mif\u001b[0m \u001b[0ma\u001b[0m \u001b[1;33m&\u001b[0m \u001b[1;36m10\u001b[0m \u001b[1;33m/\u001b[0m \u001b[0ma\u001b[0m\u001b[1;33m:\u001b[0m\u001b[1;33m\u001b[0m\u001b[0m\n\u001b[0m\u001b[0;32m      9\u001b[0m     \u001b[1;32mprint\u001b[0m\u001b[1;33m(\u001b[0m\u001b[1;34m\"a가 0입니다.\"\u001b[0m\u001b[1;33m)\u001b[0m\u001b[1;33m\u001b[0m\u001b[0m\n\u001b[0;32m     10\u001b[0m \u001b[1;32melse\u001b[0m\u001b[1;33m:\u001b[0m\u001b[1;33m\u001b[0m\u001b[0m\n",
      "\u001b[1;31mZeroDivisionError\u001b[0m: integer division or modulo by zero"
     ]
    }
   ],
   "source": [
    "#단축 평가\n",
    "# 2개 이상의 논리식을 판별하기 위해 사용되는 &, |, and, or\n",
    "# &, |는 2개 이상의 논리식을 모두 판별해야함\n",
    "# 하지만, and, or는 좌편 피연산자를 순서대로 단축평가를 진행함\n",
    "\n",
    "# ex. &를 썻을 때, 에러가 발생\n",
    "a = 0\n",
    "if a & 10 / a:\n",
    "    print(\"a가 0입니다.\")\n",
    "else:\n",
    "    print(\"아닙네다\")"
   ]
  },
  {
   "cell_type": "code",
   "execution_count": 5,
   "metadata": {},
   "outputs": [
    {
     "name": "stdout",
     "output_type": "stream",
     "text": [
      "아닙네다\n"
     ]
    }
   ],
   "source": [
    "# ex. and를 썻을 때, 에러가 발생하지 않음\n",
    "a = 0\n",
    "if a and 10 / a :\n",
    "    print(\"a가 0입니다.\")\n",
    "else:\n",
    "    print(\"아닙네다\")"
   ]
  },
  {
   "cell_type": "code",
   "execution_count": 7,
   "metadata": {},
   "outputs": [
    {
     "name": "stdout",
     "output_type": "stream",
     "text": [
      "5\n",
      "4\n",
      "3\n",
      "2\n",
      "1\n"
     ]
    }
   ],
   "source": [
    "# while\n",
    "value = 5\n",
    "while value > 0:\n",
    "    print(value)\n",
    "    value -= 1"
   ]
  },
  {
   "cell_type": "code",
   "execution_count": 8,
   "metadata": {},
   "outputs": [
    {
     "name": "stdout",
     "output_type": "stream",
     "text": [
      "('Apple', <type 'str'>)\n",
      "(100, <type 'int'>)\n",
      "(15.23, <type 'float'>)\n"
     ]
    }
   ],
   "source": [
    "# for\n",
    "l = ['Apple', 100, 15.23]\n",
    "for i in l:\n",
    "    print(i, type(i))"
   ]
  },
  {
   "cell_type": "code",
   "execution_count": 10,
   "metadata": {},
   "outputs": [
    {
     "name": "stdout",
     "output_type": "stream",
     "text": [
      "('orange', 200)\n",
      "('apple', 100)\n",
      "('banana', 300)\n"
     ]
    }
   ],
   "source": [
    "# for 2\n",
    "d = {\"apple\":100, \"orange\":200, \"banana\":300}\n",
    "for k, v in d.items():\n",
    "    print(k, v)"
   ]
  },
  {
   "cell_type": "code",
   "execution_count": 11,
   "metadata": {},
   "outputs": [
    {
     "name": "stdout",
     "output_type": "stream",
     "text": [
      "10\n",
      "20\n",
      "30\n"
     ]
    }
   ],
   "source": [
    "# for 3\n",
    "l = [10, 20, 30]\n",
    "iterator = iter(l)\n",
    "for i in iterator:\n",
    "    print(i)"
   ]
  },
  {
   "cell_type": "code",
   "execution_count": 12,
   "metadata": {},
   "outputs": [
    {
     "name": "stdout",
     "output_type": "stream",
     "text": [
      "1 단\n",
      "1 * 1 = 1\n",
      "1 * 2 = 2\n",
      "1 * 3 = 3\n",
      "1 * 4 = 4\n",
      "1 * 5 = 5\n",
      "2 단\n",
      "2 * 1 = 2\n",
      "2 * 2 = 4\n",
      "2 * 3 = 6\n",
      "2 * 4 = 8\n",
      "2 * 5 = 10\n"
     ]
    }
   ],
   "source": [
    "# 구구단 예제\n",
    "for n in [1, 2]:\n",
    "    print(\"{0} 단\".format(n))\n",
    "    for i in [1,2,3,4,5]:\n",
    "        print(\"{0} * {1} = {2}\".format(n, i, n*i))"
   ]
  },
  {
   "cell_type": "code",
   "execution_count": 13,
   "metadata": {},
   "outputs": [
    {
     "name": "stdout",
     "output_type": "stream",
     "text": [
      "Item: 1\n",
      "Item: 3\n",
      "Item: 5\n",
      "Item: 7\n",
      "Item: 9\n",
      "Exit whthout break.\n"
     ]
    }
   ],
   "source": [
    "# break, continue, else\n",
    "# else는 brack를 통해 for, while이 종료되지 않았을 때, 설정 할수 있다.\n",
    "L = [1,2,3,4,5,6,7,8,9,10]\n",
    "for i in L:\n",
    "    if i % 2 == 0:\n",
    "        continue # 얘가 break라면 밑에 Exit without break가 수행되지 않음\n",
    "    print(\"Item: {0}\".format(i))\n",
    "else:\n",
    "    print(\"Exit whthout break.\")"
   ]
  },
  {
   "cell_type": "code",
   "execution_count": 15,
   "metadata": {},
   "outputs": [
    {
     "data": {
      "text/plain": [
       "[10, 9, 8, 7, 6, 5, 4, 3, 2, 1]"
      ]
     },
     "execution_count": 15,
     "metadata": {},
     "output_type": "execute_result"
    }
   ],
   "source": [
    "# range() 수열의 생성\n",
    "# range(시작값, 종료값, 증가값)\n",
    "# 시작 값과, 증가값은 옵션임\n",
    "list(range(10)) # 종료값\n",
    "list(range(5, 10)) #시작값, 종료값\n",
    "list(range(10, 0, -1)) # 시작값, 종료값, 증가값"
   ]
  },
  {
   "cell_type": "code",
   "execution_count": 17,
   "metadata": {},
   "outputs": [
    {
     "name": "stdout",
     "output_type": "stream",
     "text": [
      "index: 0, value: Apple\n",
      "index: 1, value: Orange\n",
      "index: 2, value: Banana\n"
     ]
    }
   ],
   "source": [
    "# len()은 글자, 배열의 길이를 반환함. L의 배열엔 3개가 들어있으므로, 3을 반환함.\n",
    "L = ['Apple','Orange','Banana']\n",
    "for i in range(len(L)):\n",
    "    print(\"index: {0}, value: {1}\".format(i, L[i]))"
   ]
  },
  {
   "cell_type": "code",
   "execution_count": 19,
   "metadata": {},
   "outputs": [
    {
     "name": "stdout",
     "output_type": "stream",
     "text": [
      "(101, 100)\n",
      "(102, 15.5)\n",
      "(103, 'Apple')\n"
     ]
    }
   ],
   "source": [
    "# enumerate(시퀀스 타입객체, 시작값) 을 이용할 수 있음\n",
    "L = [100, 15.5, 'Apple']\n",
    "for i, v in enumerate(L, 101):\n",
    "    print(i, v)"
   ]
  },
  {
   "cell_type": "code",
   "execution_count": 21,
   "metadata": {},
   "outputs": [
    {
     "data": {
      "text/plain": [
       "['banana', 'orange']"
      ]
     },
     "execution_count": 21,
     "metadata": {},
     "output_type": "execute_result"
    }
   ],
   "source": [
    "# 리스트 내장\n",
    "# [표현식 for 아이템 in 시퀀스 타입 (if 조건식)]\n",
    "l = [1,2,3,4,5]\n",
    "[i ** 2 for i in l]\n",
    "l = ['apple','banana','orange','kiwi']\n",
    "[i for i in l if (len(i) > 5)]"
   ]
  },
  {
   "cell_type": "code",
   "execution_count": 23,
   "metadata": {},
   "outputs": [
    {
     "name": "stdout",
     "output_type": "stream",
     "text": [
      "Item: 10\n",
      "Item: 25\n",
      "Item: 30\n"
     ]
    }
   ],
   "source": [
    "# 반복문 작성시 도움이 되는 함수\n",
    "# filter (function | None, 이터레이션이 가능한 자료형)\n",
    "L = [10, 25, 30]\n",
    "IterL = filter(None, L)\n",
    "for i in IterL:\n",
    "    print(\"Item: {0}\".format(i))"
   ]
  },
  {
   "cell_type": "code",
   "execution_count": 24,
   "metadata": {},
   "outputs": [
    {
     "name": "stdout",
     "output_type": "stream",
     "text": [
      "Item: 25\n",
      "Item: 30\n"
     ]
    }
   ],
   "source": [
    "# 함수를 활용함\n",
    "def GetBiggerThan20(i):\n",
    "    return i > 20\n",
    "L = [10, 25, 30]\n",
    "IterL = filter(GetBiggerThan20, L)\n",
    "for i in IterL:\n",
    "    print(\"Item: {0}\".format(i))"
   ]
  },
  {
   "cell_type": "code",
   "execution_count": 25,
   "metadata": {},
   "outputs": [
    {
     "name": "stdout",
     "output_type": "stream",
     "text": [
      "Item: 25\n",
      "Item: 30\n"
     ]
    }
   ],
   "source": [
    "# lambda 함수를 활용\n",
    "IterL = filter(lambda i: i>20, L)\n",
    "for i in IterL:\n",
    "    print(\"Item: {0}\".format(i))"
   ]
  },
  {
   "cell_type": "code",
   "execution_count": 27,
   "metadata": {},
   "outputs": [
    {
     "name": "stdout",
     "output_type": "stream",
     "text": [
      "item: (10, 'A')\n",
      "item: (20, 'B')\n",
      "item: (30, 'C')\n"
     ]
    }
   ],
   "source": [
    "# zip(리스트1, 리스트2...)\n",
    "# 리스트들을 튜플로 묶어주는 함수\n",
    "X=[10,20,30]\n",
    "Y=['A','B','C']\n",
    "for i in zip(X,Y):\n",
    "    print(\"item: {0}\".format(i))"
   ]
  },
  {
   "cell_type": "code",
   "execution_count": 28,
   "metadata": {},
   "outputs": [
    {
     "name": "stdout",
     "output_type": "stream",
     "text": [
      "Item: 11\n",
      "Item: 12\n",
      "Item: 13\n"
     ]
    }
   ],
   "source": [
    "# map(함수이름, 이터레이션이 가능한 객체)\n",
    "# 반복하면서, 모든 값을 갱신하고 싶을 때 사용하는 함수\n",
    "L = [1,2,3]\n",
    "def add10(i):\n",
    "    return i+10\n",
    "for i in map(add10, L):\n",
    "    print(\"Item: {0}\".format(i))"
   ]
  },
  {
   "cell_type": "code",
   "execution_count": 29,
   "metadata": {},
   "outputs": [
    {
     "data": {
      "text/plain": [
       "[11, 12, 13]"
      ]
     },
     "execution_count": 29,
     "metadata": {},
     "output_type": "execute_result"
    }
   ],
   "source": [
    "# lambda 함수 활용\n",
    "RetList = list(map((lambda i : i+10), L))\n",
    "RetList"
   ]
  },
  {
   "cell_type": "code",
   "execution_count": null,
   "metadata": {
    "collapsed": true
   },
   "outputs": [],
   "source": []
  }
 ],
 "metadata": {
  "kernelspec": {
   "display_name": "Python 3",
   "language": "python",
   "name": "python3"
  },
  "language_info": {
   "codemirror_mode": {
    "name": "ipython",
    "version": 3
   },
   "file_extension": ".py",
   "mimetype": "text/x-python",
   "name": "python",
   "nbconvert_exporter": "python",
   "pygments_lexer": "ipython3",
   "version": "3.9.1"
  }
 },
 "nbformat": 4,
 "nbformat_minor": 1
}
