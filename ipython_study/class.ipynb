{
 "cells": [
  {
   "cell_type": "code",
   "execution_count": 1,
   "metadata": {},
   "outputs": [
    {
     "data": {
      "text/plain": [
       "['In',\n",
       " 'MyClass',\n",
       " 'Out',\n",
       " '_',\n",
       " '__',\n",
       " '___',\n",
       " '__builtin__',\n",
       " '__builtins__',\n",
       " '__doc__',\n",
       " '__loader__',\n",
       " '__name__',\n",
       " '__package__',\n",
       " '__spec__',\n",
       " '_dh',\n",
       " '_i',\n",
       " '_i1',\n",
       " '_ih',\n",
       " '_ii',\n",
       " '_iii',\n",
       " '_oh',\n",
       " 'exit',\n",
       " 'get_ipython',\n",
       " 'quit']"
      ]
     },
     "execution_count": 1,
     "metadata": {},
     "output_type": "execute_result"
    }
   ],
   "source": [
    "# 클래스 \n",
    "# 정보은닉, 상속, 다형성\n",
    "class MyClass:\n",
    "    pass\n",
    "dir() # 생성된 이름 공간의 확인"
   ]
  },
  {
   "cell_type": "code",
   "execution_count": 2,
   "metadata": {},
   "outputs": [
    {
     "data": {
      "text/plain": [
       "type"
      ]
     },
     "execution_count": 2,
     "metadata": {},
     "output_type": "execute_result"
    }
   ],
   "source": [
    "type(MyClass)"
   ]
  },
  {
   "cell_type": "code",
   "execution_count": 3,
   "metadata": {},
   "outputs": [
    {
     "name": "stdout",
     "output_type": "stream",
     "text": [
      " My name is Default name\n"
     ]
    }
   ],
   "source": [
    "class Person:\n",
    "    Name = \"Default name\"\n",
    "    def Print(self):\n",
    "        print(\" My name is {0}\".format(self.Name))\n",
    "p1 = Person()\n",
    "p1.Print()\n",
    "# self는 C++, java에서 this와 같은 의미로 보면 될듯\n",
    "# 기본적으로 class에 있는 메서드, 멤버 변수들은 public"
   ]
  },
  {
   "cell_type": "code",
   "execution_count": 4,
   "metadata": {},
   "outputs": [
    {
     "name": "stdout",
     "output_type": "stream",
     "text": [
      "p is instance of Person True\n"
     ]
    }
   ],
   "source": [
    "# 상속\n",
    "# 클래스 객체와 인스턴스 객체의 관계\n",
    "class Person:\n",
    "    pass\n",
    "class Bird:\n",
    "    pass\n",
    "class Student(Person):\n",
    "    pass\n",
    "p, s = Person(), Student()\n",
    "print(\"p is instance of Person\" , isinstance(p, Person))"
   ]
  },
  {
   "cell_type": "code",
   "execution_count": 5,
   "metadata": {},
   "outputs": [
    {
     "name": "stdout",
     "output_type": "stream",
     "text": [
      "Class is created! 10\n",
      "Class is deleted!\n"
     ]
    }
   ],
   "source": [
    "# 생성자, 소멸자 메서드\n",
    "class MyClass:\n",
    "    Value = 0\n",
    "    def __init__(self, value):\n",
    "        self.Value = value\n",
    "        print(\"Class is created! {0}\".format(self.Value))\n",
    "    def __del__(self):\n",
    "        print(\"Class is deleted!\")\n",
    "def foo():\n",
    "    d = MyClass(10)\n",
    "foo()"
   ]
  },
  {
   "cell_type": "code",
   "execution_count": 6,
   "metadata": {},
   "outputs": [
    {
     "data": {
      "text/plain": [
       "30"
      ]
     },
     "execution_count": 6,
     "metadata": {},
     "output_type": "execute_result"
    }
   ],
   "source": [
    "# 연산자 중복 정의\n",
    "# __add__(self, other) ==> +\n",
    "# __sub__(self, other) ==> -\n",
    "# __mul__(self, other) ==> *\n",
    "# __trudiv__(self, other) ==> /\n",
    "# __floordiv__(self,other) ==> //\n",
    "# __mod__(self, other) ==> %\n",
    "# __divmod__(self, other) ==> divmod()\n",
    "# __pow__(self, other) ==> pow(), **\n",
    "# __ishift__(self, other) ==> <<\n",
    "# ... 그외에도 있음\n",
    "\n",
    "# ex. +\n",
    "class Add:\n",
    "    def __init__(self, num):\n",
    "        self.num = num\n",
    "    def __add__(self, c):\n",
    "        return self.num + c.num\n",
    "\n",
    "a, b = Add(10), Add(20)\n",
    "a+b"
   ]
  },
  {
   "cell_type": "code",
   "execution_count": 10,
   "metadata": {},
   "outputs": [
    {
     "name": "stdout",
     "output_type": "stream",
     "text": [
      "1\n",
      "4\n"
     ]
    }
   ],
   "source": [
    "# 상속\n",
    "## 상속은 기존 클래스를 변경하지 않고, 기능을 추가하거나 기존 기능을 변경하고자 할때 사용함\n",
    "class FourCal:\n",
    "    def __init__(self, first):\n",
    "        self.first = first\n",
    "        \n",
    "    def pow(self):\n",
    "        result = self.first\n",
    "        return result\n",
    "\n",
    "# FourCal 클래스를 상속 받음\n",
    "class MoreFourCal(FourCal):\n",
    "    def __init__(self, first, second):\n",
    "        self.first = first\n",
    "        self.second = second\n",
    "        \n",
    "    # 메서드 오버라이딩\n",
    "    def pow(self):\n",
    "        result = self.first ** self.second\n",
    "        return result\n",
    "    \n",
    "fourCal = FourCal(1)\n",
    "moreFourCal = MoreFourCal(2,2)\n",
    "print(fourCal.pow())\n",
    "print(moreFourCal.pow())"
   ]
  },
  {
   "cell_type": "code",
   "execution_count": null,
   "metadata": {},
   "outputs": [],
   "source": []
  }
 ],
 "metadata": {
  "kernelspec": {
   "display_name": "Python 3",
   "language": "python",
   "name": "python3"
  },
  "language_info": {
   "codemirror_mode": {
    "name": "ipython",
    "version": 3
   },
   "file_extension": ".py",
   "mimetype": "text/x-python",
   "name": "python",
   "nbconvert_exporter": "python",
   "pygments_lexer": "ipython3",
   "version": "3.9.1"
  }
 },
 "nbformat": 4,
 "nbformat_minor": 1
}
