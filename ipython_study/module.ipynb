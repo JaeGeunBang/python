{
 "cells": [
  {
   "cell_type": "code",
   "execution_count": 2,
   "metadata": {},
   "outputs": [
    {
     "name": "stdout",
     "output_type": "stream",
     "text": [
      "1024.0\n",
      "1024.0\n"
     ]
    }
   ],
   "source": [
    "# 모듈은 여러 코드를 한데 묶어 다른곳에서 재사용할 수 있는 코드 모음\n",
    "# 함수랑 뭐가다름? 파이썬의 내장으로 들어있는 라이브러리라 생각하면 될듯\n",
    "\n",
    "# import <모듈> (math.py안에 수학관련 함수들이 있다고 보면 됨. 모든 함수를 가져옴)\n",
    "import math\n",
    "print(math.pow(2, 10))\n",
    "\n",
    "# from <모듈> import 이름 (모듈내 특정 함수만 가져오고 싶을때)\n",
    "from math import pow\n",
    "print(pow(2,10))"
   ]
  },
  {
   "cell_type": "code",
   "execution_count": 3,
   "metadata": {},
   "outputs": [
    {
     "name": "stdout",
     "output_type": "stream",
     "text": [
      "-rw-rw-r--   1 ftp      ftp           451 Jul  1  2005 README.MIRRORS\n",
      "drwxrwxr-x   3 ftp      ftp          4096 Jul  1  2005 devel\n",
      "drwxrwxr-x   3 ftp      ftp          4096 Dec  2  2010 distrib\n",
      "drwxrwxr-x   4 ftp      ftp          4096 Jul  1  2005 historic\n"
     ]
    },
    {
     "data": {
      "text/plain": [
       "'226 Transfer complete'"
      ]
     },
     "execution_count": 3,
     "metadata": {},
     "output_type": "execute_result"
    }
   ],
   "source": [
    "from ftplib import FTP #ftplib 모듈에서 FTP 라는 어트리뷰트(함수)를 가져옴\n",
    "ftp = FTP(\"ftp1.at.proftpd.org\")\n",
    "ftp.login()\n",
    "ftp.retrlines('LIST')"
   ]
  },
  {
   "cell_type": "code",
   "execution_count": 4,
   "metadata": {},
   "outputs": [
    {
     "data": {
      "text/plain": [
       "'221 Goodbye.'"
      ]
     },
     "execution_count": 4,
     "metadata": {},
     "output_type": "execute_result"
    }
   ],
   "source": [
    "ftp.quit()\n",
    "\n",
    "# 모듈의 장점\n",
    "# 코드의 재사용, 다음 프로그램을 구현할 때도 모듈을 추가(import)해서 재사용 할 수 있음\n",
    "# 코드를 이름공간으로 구분하고 관리할 수 있음\n",
    "#   --> math라는 모듈을 import 하면 math라는 이름 공간이 생성됨. 그리고 생성된 이름 공간에 math의 함수, 데이터가 등록됨. \n",
    "#   --> 그럼으로써, 함수의 충돌을 피할 수 있음"
   ]
  },
  {
   "cell_type": "code",
   "execution_count": 5,
   "metadata": {
    "collapsed": true
   },
   "outputs": [],
   "source": [
    "# 모듈 만들기\n",
    "from functools import * # reduce 함수를 사용하기 위해 functools 모듈을 가져옴\n",
    "def intersect(*ar):\n",
    "    return reduce(__intersectSC, ar)\n",
    "def __intersectSC(listX, listY):\n",
    "    setList = []\n",
    "    for x in listX:\n",
    "        if x in ListY:\n",
    "            setList.append(x)\n",
    "    return setList\n",
    "# 이렇게 만든 모듈을 simpleset.py라는 이름으로 저장 후, 파이썬 라이브러리 디렉토리에 옮기면 모듈을 생성하는 작업은 모두 끝났음\n",
    "# 보통 파이썬 라이브러리는 c:/python32/Lib\n",
    "# 그 후, import simpleset 을 사용함으로써, 사용 할 수 있음"
   ]
  },
  {
   "cell_type": "markdown",
   "metadata": {
    "collapsed": true
   },
   "source": [
    "### 모듈 가져오는 방법 정리\n",
    "- import <모듈> (모듈을 가져오고, 모듈의 내부에서만 쓰이는 함수도 가져옴)\n",
    "- from <모듈> import 어튜리뷰트 (함수) (모듈을 가져오고, 모듈의 특정 함수를 가져옴)\n",
    "- from <모듈> import * (모듈을 가져오고, 모듈의 내부에서만 쓰이는 함수는 제외하고 가져옴)\n",
    "- import <모듈> as 별칭"
   ]
  },
  {
   "cell_type": "markdown",
   "metadata": {},
   "source": [
    "# 파이썬 기본 모듈"
   ]
  },
  {
   "cell_type": "code",
   "execution_count": 3,
   "metadata": {},
   "outputs": [
    {
     "data": {
      "text/plain": [
       "'/Users/kakao_ent/git/python-study/ipython_study'"
      ]
     },
     "execution_count": 3,
     "metadata": {},
     "output_type": "execute_result"
    }
   ],
   "source": [
    "# os: 운영체제를 제어할수있음\n",
    "\n",
    "import os\n",
    "os.getcwd()"
   ]
  },
  {
   "cell_type": "code",
   "execution_count": 6,
   "metadata": {},
   "outputs": [
    {
     "data": {
      "text/plain": [
       "module"
      ]
     },
     "execution_count": 6,
     "metadata": {},
     "output_type": "execute_result"
    }
   ],
   "source": [
    "# string: 문자열 연산 제공\n",
    "\n",
    "import string\n",
    "type(string)"
   ]
  },
  {
   "cell_type": "code",
   "execution_count": 8,
   "metadata": {},
   "outputs": [
    {
     "data": {
      "text/plain": [
       "module"
      ]
     },
     "execution_count": 8,
     "metadata": {},
     "output_type": "execute_result"
    }
   ],
   "source": [
    "# re: string을 좀더 전문적으로 다룰수 있음 (regular expression)\n",
    "\n",
    "import re\n",
    "type(re)"
   ]
  },
  {
   "cell_type": "code",
   "execution_count": 9,
   "metadata": {},
   "outputs": [
    {
     "data": {
      "text/plain": [
       "0.7577096949260285"
      ]
     },
     "execution_count": 9,
     "metadata": {},
     "output_type": "execute_result"
    }
   ],
   "source": [
    "# random: 난수 생성을 위한 모듈\n",
    "import random\n",
    "random.random()"
   ]
  },
  {
   "cell_type": "code",
   "execution_count": null,
   "metadata": {},
   "outputs": [],
   "source": []
  }
 ],
 "metadata": {
  "kernelspec": {
   "display_name": "Python 3",
   "language": "python",
   "name": "python3"
  },
  "language_info": {
   "codemirror_mode": {
    "name": "ipython",
    "version": 3
   },
   "file_extension": ".py",
   "mimetype": "text/x-python",
   "name": "python",
   "nbconvert_exporter": "python",
   "pygments_lexer": "ipython3",
   "version": "3.9.1"
  }
 },
 "nbformat": 4,
 "nbformat_minor": 1
}
