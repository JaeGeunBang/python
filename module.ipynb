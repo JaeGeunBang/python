{
 "cells": [
  {
   "cell_type": "code",
   "execution_count": 1,
   "metadata": {
    "collapsed": false
   },
   "outputs": [
    {
     "data": {
      "text/plain": [
       "1024.0"
      ]
     },
     "execution_count": 1,
     "metadata": {},
     "output_type": "execute_result"
    }
   ],
   "source": [
    "# 모듈은 여러 코드를 한데 묶어 다른곳에서 재사용할 수 있는 코드 모음\n",
    "# 함수랑 뭐가다름? 파이썬의 내장으로 들어있는 라이브러리라 생각하면 될듯\n",
    "# import 모듈 이름 (math.py안에 수학관련 함수들이 있다고 보면 됨)\n",
    "import math\n",
    "math.pow(2, 10)"
   ]
  },
  {
   "cell_type": "code",
   "execution_count": 3,
   "metadata": {
    "collapsed": false
   },
   "outputs": [
    {
     "name": "stdout",
     "output_type": "stream",
     "text": [
      "-rw-rw-r--   1 ftp      ftp           451 Jul  1  2005 README.MIRRORS\n",
      "drwxrwxr-x   3 ftp      ftp          4096 Jul  1  2005 devel\n",
      "drwxrwxr-x   3 ftp      ftp          4096 Dec  2  2010 distrib\n",
      "drwxrwxr-x   4 ftp      ftp          4096 Jul  1  2005 historic\n"
     ]
    },
    {
     "data": {
      "text/plain": [
       "'226 Transfer complete'"
      ]
     },
     "execution_count": 3,
     "metadata": {},
     "output_type": "execute_result"
    }
   ],
   "source": [
    "from ftplib import FTP #ftplib 모듈에서 FTP 라는 어트리뷰트(함수)를 가져옴\n",
    "ftp = FTP(\"ftp1.at.proftpd.org\")\n",
    "ftp.login()\n",
    "ftp.retrlines('LIST')"
   ]
  },
  {
   "cell_type": "code",
   "execution_count": 4,
   "metadata": {
    "collapsed": false
   },
   "outputs": [
    {
     "data": {
      "text/plain": [
       "'221 Goodbye.'"
      ]
     },
     "execution_count": 4,
     "metadata": {},
     "output_type": "execute_result"
    }
   ],
   "source": [
    "ftp.quit()\n",
    "\n",
    "# 모듈의 장점\n",
    "# 코드의 재사용, 다음 프로그램을 구현할 때도 모듈을 추가(import)해서 재사용 할 수 있음\n",
    "# 코드를 이름공간으로 구분하고 관리할 수 있음\n",
    "#   --> math라는 모듈을 import 하면 math라는 이름 공간이 생성됨. 그리고 생성된 이름 공간에 math의 함수, 데이터가 등록됨. \n",
    "#   --> 그럼으로써, 함수의 충돌을 피할 수 있음"
   ]
  },
  {
   "cell_type": "code",
   "execution_count": 5,
   "metadata": {
    "collapsed": true
   },
   "outputs": [],
   "source": [
    "# 모듈 만들기\n",
    "from functools import * # reduce 함수를 사용하기 위해 functools 모듈을 가져옴\n",
    "def intersect(*ar):\n",
    "    return reduce(__intersectSC, ar)\n",
    "def __intersectSC(listX, listY):\n",
    "    setList = []\n",
    "    for x in listX:\n",
    "        if x in ListY:\n",
    "            setList.append(x)\n",
    "    return setList\n",
    "# 이렇게 만든 모듈을 simpleset.py라는 이름으로 저장 후, 파이썬 라이브러리 디렉토리에 옮기면 모듈을 생성하는 작업은 모두 끝났음\n",
    "# 보통 파이썬 라이브러리는 c:/python32/Lib\n",
    "# 그 후, import simpleset 을 사용함으로써, 사용 할 수 있음"
   ]
  },
  {
   "cell_type": "code",
   "execution_count": null,
   "metadata": {
    "collapsed": true
   },
   "outputs": [],
   "source": [
    "# 모듈 가져오는 방법\n",
    "# import 모듈 (모듈을 가져오고, 모듈의 내부에서만 쓰이는 함수도 가져옴)\n",
    "# from 모듈 import 어튜리뷰트 (함수) (모듈을 가져오고, 모듈의 특정 함수를 가져옴)\n",
    "# from 모듈 import * (모듈을 가져오고, 모듈의 내부에서만 쓰이는 함수는 제외하고 가져옴)\n",
    "# import 모듈 as 별칭"
   ]
  }
 ],
 "metadata": {
  "kernelspec": {
   "display_name": "Python 2",
   "language": "python",
   "name": "python2"
  },
  "language_info": {
   "codemirror_mode": {
    "name": "ipython",
    "version": 2
   },
   "file_extension": ".py",
   "mimetype": "text/x-python",
   "name": "python",
   "nbconvert_exporter": "python",
   "pygments_lexer": "ipython2",
   "version": "2.7.11"
  }
 },
 "nbformat": 4,
 "nbformat_minor": 0
}
