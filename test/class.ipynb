{
 "cells": [
  {
   "cell_type": "code",
   "execution_count": 1,
   "metadata": {
    "collapsed": false
   },
   "outputs": [
    {
     "data": {
      "text/plain": [
       "['In',\n",
       " 'MyClass',\n",
       " 'Out',\n",
       " '_',\n",
       " '__',\n",
       " '___',\n",
       " '__builtin__',\n",
       " '__builtins__',\n",
       " '__doc__',\n",
       " '__name__',\n",
       " '_dh',\n",
       " '_i',\n",
       " '_i1',\n",
       " '_ih',\n",
       " '_ii',\n",
       " '_iii',\n",
       " '_oh',\n",
       " '_sh',\n",
       " 'exit',\n",
       " 'get_ipython',\n",
       " 'quit']"
      ]
     },
     "execution_count": 1,
     "metadata": {},
     "output_type": "execute_result"
    }
   ],
   "source": [
    "# 클래스 \n",
    "# 정보은닉, 상속, 다형성\n",
    "class MyClass:\n",
    "    pass\n",
    "dir() # 생성된 이름 공간의 확인"
   ]
  },
  {
   "cell_type": "code",
   "execution_count": 2,
   "metadata": {
    "collapsed": false
   },
   "outputs": [
    {
     "data": {
      "text/plain": [
       "classobj"
      ]
     },
     "execution_count": 2,
     "metadata": {},
     "output_type": "execute_result"
    }
   ],
   "source": [
    "type(MyClass)"
   ]
  },
  {
   "cell_type": "code",
   "execution_count": 5,
   "metadata": {
    "collapsed": false
   },
   "outputs": [
    {
     "name": "stdout",
     "output_type": "stream",
     "text": [
      " My name is Default name\n"
     ]
    }
   ],
   "source": [
    "class Person:\n",
    "    Name = \"Default name\"\n",
    "    def Print(self):\n",
    "        print(\" My name is {0}\".format(self.Name))\n",
    "p1 = Person()\n",
    "p1.Print()\n",
    "# self는 C++, java에서 this와 같은 의미로 보면 될듯\n",
    "# 기본적으로 class에 있는 메서드, 멤버 변수들은 public"
   ]
  },
  {
   "cell_type": "code",
   "execution_count": 7,
   "metadata": {
    "collapsed": false
   },
   "outputs": [
    {
     "name": "stdout",
     "output_type": "stream",
     "text": [
      "('p is instance of Person', True)\n"
     ]
    }
   ],
   "source": [
    "# 상속\n",
    "# 클래스 객체와 인스턴스 객체의 관계\n",
    "class Person:\n",
    "    pass\n",
    "class Bird:\n",
    "    pass\n",
    "class Student(Person):\n",
    "    pass\n",
    "p, s = Person(), Student()\n",
    "print(\"p is instance of Person\" , isinstance(p, Person))"
   ]
  },
  {
   "cell_type": "code",
   "execution_count": 13,
   "metadata": {
    "collapsed": false
   },
   "outputs": [
    {
     "name": "stdout",
     "output_type": "stream",
     "text": [
      "Class is created! 10\n",
      "Class is deleted!\n"
     ]
    }
   ],
   "source": [
    "# 생성자, 소멸자 메서드\n",
    "class MyClass:\n",
    "    Value = 0\n",
    "    def __init__(self, value):\n",
    "        self.Value = value\n",
    "        print(\"Class is created! {0}\".format(self.Value))\n",
    "    def __del__(self):\n",
    "        print(\"Class is deleted!\")\n",
    "def foo():\n",
    "    d = MyClass(10)\n",
    "foo()"
   ]
  },
  {
   "cell_type": "code",
   "execution_count": 14,
   "metadata": {
    "collapsed": false
   },
   "outputs": [
    {
     "name": "stdout",
     "output_type": "stream",
     "text": [
      "Class is deleted!\n"
     ]
    },
    {
     "data": {
      "text/plain": [
       "30"
      ]
     },
     "execution_count": 14,
     "metadata": {},
     "output_type": "execute_result"
    }
   ],
   "source": [
    "# 연산자 중복 정의\n",
    "# __add__(self, other) ==> +\n",
    "# __sub__(self, other) ==> -\n",
    "# __mul__(self, other) ==> *\n",
    "# __trudiv__(self, other) ==> /\n",
    "# __floordiv__(self,other) ==> //\n",
    "# __mod__(self, other) ==> %\n",
    "# __divmod__(self, other) ==> divmod()\n",
    "# __pow__(self, other) ==> pow(), **\n",
    "# __ishift__(self, other) ==> <<\n",
    "# ... 그외에도 있음\n",
    "\n",
    "# ex. +\n",
    "class Add:\n",
    "    def __init__(self, num):\n",
    "        self.num = num\n",
    "    def __add__(self, c):\n",
    "        return self.num + c.num\n",
    "\n",
    "a, b = Add(10), Add(20)\n",
    "a+b"
   ]
  },
  {
   "cell_type": "code",
   "execution_count": null,
   "metadata": {
    "collapsed": true
   },
   "outputs": [],
   "source": [
    "# 상속\n",
    "# 위에서 설명했음\n",
    "# 클래스 간의 관계확인은 issubclass(자식클래스, 부모클래스)\n",
    "# 참고로 파이썬은 다중 상속이 허용됨"
   ]
  }
 ],
 "metadata": {
  "kernelspec": {
   "display_name": "Python 2",
   "language": "python",
   "name": "python2"
  },
  "language_info": {
   "codemirror_mode": {
    "name": "ipython",
    "version": 2
   },
   "file_extension": ".py",
   "mimetype": "text/x-python",
   "name": "python",
   "nbconvert_exporter": "python",
   "pygments_lexer": "ipython2",
   "version": "2.7.11"
   "version": "2.7.12"
  }
 }
}
