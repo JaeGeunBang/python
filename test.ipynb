print ("test")

print("master가 한걸로바꿈")

print("master가 한 작업")